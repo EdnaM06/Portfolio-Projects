{
 "cells": [
  {
   "cell_type": "code",
   "execution_count": 1,
   "id": "600c95f5",
   "metadata": {},
   "outputs": [],
   "source": [
    "#I YOUR EDNA, KOBO, confirm - by submitting this document - that the solutions in this notebook are a result of my own work \n",
    "#and that I abide by the EDSA honour code (https://drive.google.com/file/d/1QDCjGZJ8-FmJE3bZdIQNwnJyQKPhHZBn/view?usp=sharing)."
   ]
  },
  {
   "cell_type": "code",
   "execution_count": 2,
   "id": "ecb3121b",
   "metadata": {},
   "outputs": [],
   "source": [
    "%load_ext sql"
   ]
  },
  {
   "cell_type": "code",
   "execution_count": 3,
   "id": "38fcb2d1",
   "metadata": {},
   "outputs": [],
   "source": [
    "%%sql \n",
    "\n",
    "sqlite:///TMDB.db"
   ]
  },
  {
   "cell_type": "code",
   "execution_count": 4,
   "id": "3cbd6ef9",
   "metadata": {},
   "outputs": [],
   "source": [
    "#QUESTION 1\n",
    "\n",
    "#What query would you write to change the name of the language with the 'zh' iso code in the \"Languages\" table to Chinese?\n",
    "\n",
    "#`UPDATE Languages (language_name = 'Chinese') WHERE iso_639_1 = 'zh'`\n",
    "#`MODIFY Languages SET language_name = 'Chinese' WHERE iso_639_1 = 'zh'`\n",
    "#`ALTER Languages SET language_name = 'Chinese' WHERE iso_639_1 = 'zh'`\n",
    "#`UPDATE Languages SET language_name = 'Chinese' WHERE iso_639_1 = 'zh'`"
   ]
  },
  {
   "cell_type": "code",
   "execution_count": 5,
   "id": "35264da2",
   "metadata": {},
   "outputs": [
    {
     "name": "stdout",
     "output_type": "stream",
     "text": [
      " * sqlite:///TMDB.db\n",
      "0 rows affected.\n"
     ]
    },
    {
     "data": {
      "text/plain": [
       "[]"
      ]
     },
     "execution_count": 5,
     "metadata": {},
     "output_type": "execute_result"
    }
   ],
   "source": [
    "%%sql\n",
    "UPDATE Languages\n",
    "SET language_name = 'Chinese'\n",
    "WHERE iso_639_1 = 'zh';"
   ]
  },
  {
   "cell_type": "code",
   "execution_count": 6,
   "id": "3e4bfd97",
   "metadata": {},
   "outputs": [],
   "source": [
    "#QUESTION 2\n",
    "\n",
    "#What query would you write to insert a new genre called Sport with an id of 10?\n",
    "\n",
    "#`INSERT (genre_id, genre_name) INTO Genres SET VALUE (10, 'Sport')`\n",
    "#`INSERT Genres (genre_id, genre_name) Values (10, 'Sport')`\n",
    "#`INSERT INTO Genres (genre_id, genre_name) Values (10, 'Sport')`\n",
    "#`INSERT INTO Genres (genre_id = 10, genre_name = 'Sport')`"
   ]
  },
  {
   "cell_type": "code",
   "execution_count": 68,
   "id": "39831b35",
   "metadata": {},
   "outputs": [
    {
     "name": "stdout",
     "output_type": "stream",
     "text": [
      " * sqlite:///TMDB.db\n",
      "1 rows affected.\n"
     ]
    },
    {
     "data": {
      "text/plain": [
       "[]"
      ]
     },
     "execution_count": 68,
     "metadata": {},
     "output_type": "execute_result"
    }
   ],
   "source": [
    "%%sql\n",
    "INSERT INTO Genres (genre_id, genre_name) \n",
    "VALUES (10, 'Sport')"
   ]
  },
  {
   "cell_type": "code",
   "execution_count": 8,
   "id": "b3534238",
   "metadata": {},
   "outputs": [],
   "source": [
    "#QUESTION 3\n",
    "\n",
    "#You have just watched The Flintstones movie and did not find it very funny. \n",
    "#What code would delete the entry that links The Flintstones to the Comedy genre?\n",
    "\n",
    "#`DELETE FROM genremap (genre_id = 35, movie_id = 888)`\n",
    "#`DELETE ENTRY FROM genremap WHERE genre_id = 35 and movie_id = 888`\n",
    "#`REMOVE ENTRY FROM genremap WHERE genre_id = 35 and movie_id = 888`\n",
    "#`DELETE FROM genremap WHERE genre_id = 35 and movie_id = 888`"
   ]
  },
  {
   "cell_type": "code",
   "execution_count": 33,
   "id": "74e0f092",
   "metadata": {},
   "outputs": [
    {
     "name": "stdout",
     "output_type": "stream",
     "text": [
      " * sqlite:///TMDB.db\n",
      "1 rows affected.\n"
     ]
    },
    {
     "data": {
      "text/plain": [
       "[]"
      ]
     },
     "execution_count": 33,
     "metadata": {},
     "output_type": "execute_result"
    }
   ],
   "source": [
    "%%sql\n",
    "DELETE FROM genremap \n",
    "WHERE genre_id = 35 \n",
    "AND movie_id = 888;"
   ]
  },
  {
   "cell_type": "code",
   "execution_count": 11,
   "id": "149e0fc0",
   "metadata": {},
   "outputs": [],
   "source": [
    "#QUESTION 4\n",
    "\n",
    "#What query would you write to add a column to the language table that could be used for \n",
    "#the English names of the different languages?\n",
    "\n",
    "#`UPDATE TABLE languages APPEND language_english_name varchar(50)`\n",
    "#`UPDATE TABLE languages ADD language_english_name`\n",
    "#`ALTER TABLE languages ADD language_english_name varchar(50)`\n",
    "#`ALTER TABLE languages ADD language_english_name`"
   ]
  },
  {
   "cell_type": "code",
   "execution_count": 18,
   "id": "5ab2d6a9",
   "metadata": {},
   "outputs": [
    {
     "name": "stdout",
     "output_type": "stream",
     "text": [
      " * sqlite:///TMDB.db\n",
      "Done.\n"
     ]
    },
    {
     "data": {
      "text/plain": [
       "[]"
      ]
     },
     "execution_count": 18,
     "metadata": {},
     "output_type": "execute_result"
    }
   ],
   "source": [
    "%%sql\n",
    "ALTER TABLE Languages\n",
    "ADD COLUMN language_english_name VARCHAR(50);"
   ]
  },
  {
   "cell_type": "code",
   "execution_count": null,
   "id": "3190cdfb",
   "metadata": {},
   "outputs": [],
   "source": [
    "#QUESTION 5\n",
    "\n",
    "#If the foreign keys in the GenreMap table are set to ON DELETE CASCADE, which of the following is true?\n",
    "\n",
    "#Deleting an entry in the 'GenreMap' table will lead to all entries with a matching 'genre_id' in the 'Genre' table to also be deleted.\n",
    "#Deleting an entry in the 'Genre' table will lead to all entries with a matching 'genre_id' in the 'GenreMap' table to also be deleted.\n",
    "#Deleting an entry in the 'GenreMap' table will lead to entries with a matching 'movie_id' in the 'Movies' table to also be deleted.\n",
    "#Deleting an entry in 'GenreMap' will lead to no other changes in the data."
   ]
  },
  {
   "cell_type": "code",
   "execution_count": 46,
   "id": "ea0c0b9b",
   "metadata": {},
   "outputs": [
    {
     "name": "stdout",
     "output_type": "stream",
     "text": [
      " * sqlite:///TMDB.db\n",
      "Done.\n"
     ]
    },
    {
     "data": {
      "text/plain": [
       "[]"
      ]
     },
     "execution_count": 46,
     "metadata": {},
     "output_type": "execute_result"
    }
   ],
   "source": [
    "%%sql\n",
    "CREATE TABLE IF NOT EXISTS Favourites (\n",
    "    movie_id INTEGER,\n",
    "    PRIMARY KEY (movie_id),\n",
    "    FOREIGN KEY (movie_id) REFERENCES Movies (movie_id) ON DELETE CASCADE\n",
    ");"
   ]
  },
  {
   "cell_type": "code",
   "execution_count": 13,
   "id": "9b26d93b",
   "metadata": {},
   "outputs": [],
   "source": [
    "#QUESTION 6\n",
    "\n",
    "#What query would you write to create a new table called Favourites that only has one column for the movie_id?\n",
    "\n",
    "#`NEW TABLE Favourites(movie_id int)`\n",
    "#`CREATE TABLE Favourites with COLUMN(movie_id int)`\n",
    "#`NEW TABLE Favourites with COLUMN(movie_id int)`\n",
    "#`CREATE TABLE Favourites ( movie_id int)`"
   ]
  },
  {
   "cell_type": "code",
   "execution_count": 42,
   "id": "44ebad98",
   "metadata": {},
   "outputs": [
    {
     "name": "stdout",
     "output_type": "stream",
     "text": [
      " * sqlite:///TMDB.db\n",
      "Done.\n"
     ]
    },
    {
     "data": {
      "text/plain": [
       "[]"
      ]
     },
     "execution_count": 42,
     "metadata": {},
     "output_type": "execute_result"
    }
   ],
   "source": [
    "%%sql\n",
    "CREATE TABLE Favourites (\n",
    "    movie_id INTEGER NOT NULL,\n",
    "    PRIMARY KEY (movie_id),\n",
    "    FOREIGN KEY (movie_id) REFERENCES Movies (movie_id)\n",
    ");"
   ]
  },
  {
   "cell_type": "code",
   "execution_count": null,
   "id": "3e01f2e5",
   "metadata": {},
   "outputs": [],
   "source": [
    "#QUESTION 7\n",
    "\n",
    "#When using SQLite, if you want to make sure that you do not put duplicates in your new Favourites table, how would you have created your 'Favourites' table?\n",
    "\n",
    "#`NEW TABLE FAVOURITES with COLUMN(movie_id int unique)`\n",
    "#`NEW TABLE Favourites(movie_id int unique)`\n",
    "#`CREATE TABLE Favourites (movie_id int unique)`\n",
    "#`CREATE TABLE Favourites (movie_id int IS unique)`"
   ]
  },
  {
   "cell_type": "code",
   "execution_count": 60,
   "id": "fc3121b9",
   "metadata": {},
   "outputs": [
    {
     "name": "stdout",
     "output_type": "stream",
     "text": [
      " * sqlite:///TMDB.db\n",
      "Done.\n"
     ]
    },
    {
     "data": {
      "text/plain": [
       "[]"
      ]
     },
     "execution_count": 60,
     "metadata": {},
     "output_type": "execute_result"
    }
   ],
   "source": [
    "%%sql\n",
    "CREATE TABLE Favourites (\n",
    "    movie_id INTEGER UNIQUE,\n",
    "    PRIMARY KEY (movie_id),\n",
    "    FOREIGN KEY (movie_id) REFERENCES Movies (movie_id) ON DELETE CASCADE\n",
    ");\n"
   ]
  },
  {
   "cell_type": "code",
   "execution_count": null,
   "id": "3553f98f",
   "metadata": {},
   "outputs": [],
   "source": [
    "#QUESTION 8\n",
    "\n",
    "#When using SQLite, and you want your new 'Favourites' table to also hold the names of your favourite movies.\n",
    "#What query would you write to introduce this new column?\n",
    "\n",
    "#`ALTER TABLE Favourites MODIFY COLUMN(movie_name VARCHAR)`\n",
    "#`UPDATE TABLE Favourites ADD COLUMN movie_name VARCHAR`\n",
    "#`ALTER TABLE Favourites ADD COLUMN movie_name VARCHAR`\n",
    "#`UPDATE TABLE Favourites MODIFY COLUMN(movie_name VARCHAR)`\n"
   ]
  },
  {
   "cell_type": "code",
   "execution_count": 51,
   "id": "95a2a578",
   "metadata": {},
   "outputs": [
    {
     "name": "stdout",
     "output_type": "stream",
     "text": [
      " * sqlite:///TMDB.db\n",
      "Done.\n"
     ]
    },
    {
     "data": {
      "text/plain": [
       "[]"
      ]
     },
     "execution_count": 51,
     "metadata": {},
     "output_type": "execute_result"
    }
   ],
   "source": [
    "%%sql\n",
    "ALTER TABLE Favourites \n",
    "ADD COLUMN movie_name VARCHAR;"
   ]
  },
  {
   "cell_type": "code",
   "execution_count": null,
   "id": "63c605df",
   "metadata": {},
   "outputs": [],
   "source": [
    "#QUESTION 9\n",
    "\n",
    "#What would the following query do?\n",
    "\n",
    "#INSERT INTO Favourites\n",
    "#SELECT title FROM Movies\n",
    "#WHERE popularity > 100;\n",
    "\n",
    "#Inserts the movie_id of all movies with a popularity of more than 100 into the Favourites table.\n",
    "#Inserts the names of the 100 most popular movies into the Favourites table.\n",
    "#Inserts the names of all movies with a popularity of more than 100 into the Favourites table.\n",
    "#Displays the names of all movies with a popularity of more than 100 but does not change anything in the tables."
   ]
  },
  {
   "cell_type": "code",
   "execution_count": 56,
   "id": "d83dcdca",
   "metadata": {},
   "outputs": [
    {
     "name": "stdout",
     "output_type": "stream",
     "text": [
      " * sqlite:///TMDB.db\n",
      "2 rows affected.\n"
     ]
    },
    {
     "data": {
      "text/plain": [
       "[]"
      ]
     },
     "execution_count": 56,
     "metadata": {},
     "output_type": "execute_result"
    }
   ],
   "source": [
    "%%sql\n",
    "INSERT INTO Favourites (movie_id, movie_name)\n",
    "SELECT movie_id, title FROM Movies\n",
    "WHERE popularity > 100;"
   ]
  },
  {
   "cell_type": "code",
   "execution_count": 1,
   "id": "a7f69e20",
   "metadata": {},
   "outputs": [],
   "source": [
    "#QUESTION 10\n",
    "\n",
    "#What query would you write to delete the table Favourites that we created in the previous question?\n",
    "\n",
    "#DROP TABLE Favourites\n",
    "#PURGE TABLE FAvourites\n",
    "#REMOVE TABLE Favourites\n",
    "#DELETE TABLE Favourites"
   ]
  },
  {
   "cell_type": "code",
   "execution_count": 59,
   "id": "45616411",
   "metadata": {},
   "outputs": [
    {
     "name": "stdout",
     "output_type": "stream",
     "text": [
      " * sqlite:///TMDB.db\n",
      "Done.\n"
     ]
    },
    {
     "data": {
      "text/plain": [
       "[]"
      ]
     },
     "execution_count": 59,
     "metadata": {},
     "output_type": "execute_result"
    }
   ],
   "source": [
    "%%sql\n",
    "DROP TABLE Favourites;"
   ]
  }
 ],
 "metadata": {
  "kernelspec": {
   "display_name": "Python 3 (ipykernel)",
   "language": "python",
   "name": "python3"
  },
  "language_info": {
   "codemirror_mode": {
    "name": "ipython",
    "version": 3
   },
   "file_extension": ".py",
   "mimetype": "text/x-python",
   "name": "python",
   "nbconvert_exporter": "python",
   "pygments_lexer": "ipython3",
   "version": "3.9.13"
  }
 },
 "nbformat": 4,
 "nbformat_minor": 5
}
