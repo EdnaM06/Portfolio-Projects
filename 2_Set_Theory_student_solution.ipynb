{
 "cells": [
  {
   "cell_type": "markdown",
   "metadata": {},
   "source": [
    "# Set Theory in SQL: Classlist Database\n",
    "© Explore Data Science Academy"
   ]
  },
  {
   "cell_type": "markdown",
   "metadata": {},
   "source": [
    "## Instructions to Students\n",
    "\n",
    "This challenge is designed to determine how much you have learned so far and will test your knowledge set theory through the use of SQL queries.\n",
    "\n",
    "The answers for this challenge should be selected on Athena for each corresponding Multiple Choice Question. The questions are included in this notebook and are numbered according to the Athena Questions, the options to choose from for each question has also been included.\n",
    "\n",
    "Do not add or remove cells in this notebook. Do not edit or remove the `%%sql` comment as it is required to run each cell.\n",
    "\n",
    "**_Good Luck!_**"
   ]
  },
  {
   "cell_type": "markdown",
   "metadata": {},
   "source": [
    "## Honour Code\n",
    "\n",
    "I EDNA , KOBO, confirm - by submitting this document - that the solutions in this notebook are a result of my own work and that I abide by the EDSA honour code (https://drive.google.com/file/d/1QDCjGZJ8-FmJE3bZdIQNwnJyQKPhHZBn/view?usp=sharing).\n",
    "\n",
    "Non-compliance with the honour code constitutes a material breach of contract."
   ]
  },
  {
   "cell_type": "markdown",
   "metadata": {},
   "source": [
    "## The Classlist Database\n",
    "\n",
    "![Hi](https://upload.wikimedia.org/wikipedia/commons/3/39/Student_in_Class_%283618969705%29.jpg)\n",
    "\n",
    "The Classlist database contains the records of multiple students who have undertaken primary and supplementary examinations in multiple subjects. This data is split across two tables: \n",
    "\n",
    " - **Exammarks**; and \n",
    " - **Supplementarymarks**\n",
    "\n",
    "Unlike our previous challenge, we leave it up to you to investigate the contents of these tables and the various attributes they contain.  "
   ]
  },
  {
   "cell_type": "markdown",
   "metadata": {},
   "source": [
    "## Loading the database\n",
    "\n",
    "To begin and start making use of SQL queries you need to prepare your SQL environment. You can do this by loading in the magic command `%load_ext sql`, next you can go ahead and load in your database. To do this you will need to ensure you have downloaded the `classlist.db`sqlite file from Athena and have stored it in a known location. \n",
    "\n",
    "Now that you have all the prerequistes you can go ahead and load it into the notebook. "
   ]
  },
  {
   "cell_type": "code",
   "execution_count": 1,
   "metadata": {},
   "outputs": [],
   "source": [
    "%load_ext sql"
   ]
  },
  {
   "cell_type": "code",
   "execution_count": 2,
   "metadata": {},
   "outputs": [],
   "source": [
    "%%sql \n",
    "\n",
    "sqlite:///classlist.db"
   ]
  },
  {
   "cell_type": "markdown",
   "metadata": {},
   "source": [
    "## Questions on Set Theory \n",
    "\n",
    "Use the given cell below each question to execute your SQL queries to find the correct input from the options provided for the multiple choice questions on Athena."
   ]
  },
  {
   "cell_type": "markdown",
   "metadata": {},
   "source": [
    "**Question 2**\n",
    "\n",
    "How many students did not write any of their final exams?\n",
    "\n",
    "**Options:** \n",
    " - 5\n",
    " - 95\n",
    " - 70\n",
    " - 25"
   ]
  },
  {
   "cell_type": "markdown",
   "metadata": {},
   "source": [
    "**Solution**"
   ]
  },
  {
   "cell_type": "code",
   "execution_count": 3,
   "metadata": {},
   "outputs": [
    {
     "name": "stdout",
     "output_type": "stream",
     "text": [
      " * sqlite:///classlist.db\n",
      "(sqlite3.OperationalError) no such table: Supplementarymarks\n",
      "[SQL: SELECT COUNT(DISTINCT sm.StudentNo) - COUNT(DISTINCT em.StudentNo)\n",
      "FROM Supplementarymarks sm\n",
      "LEFT JOIN exammarks em\n",
      "ON sm.StudentNo = em.StudentNo;]\n",
      "(Background on this error at: https://sqlalche.me/e/20/e3q8)\n"
     ]
    }
   ],
   "source": [
    "%%sql \n",
    "SELECT COUNT(DISTINCT sm.StudentNo) - COUNT(DISTINCT em.StudentNo)\n",
    "FROM Supplementarymarks sm\n",
    "LEFT JOIN exammarks em\n",
    "ON sm.StudentNo = em.StudentNo;"
   ]
  },
  {
   "cell_type": "markdown",
   "metadata": {},
   "source": [
    "**Question 4**\n",
    "\n",
    "What are the names of the students in the grade who scored the highest marks for Science? _(hint: you need to consider the exam AND supplementary exam marks)_\n",
    "\n",
    "**Options:**\n",
    " - Jack and Jane\n",
    " - Joe and Duane\n",
    " - Leroy and Harold\n",
    " - Craig and Danielle"
   ]
  },
  {
   "cell_type": "markdown",
   "metadata": {},
   "source": [
    "**Solution**"
   ]
  },
  {
   "cell_type": "code",
   "execution_count": 5,
   "metadata": {},
   "outputs": [
    {
     "name": "stdout",
     "output_type": "stream",
     "text": [
      " * sqlite:///classlist.db\n",
      "(sqlite3.OperationalError) no such table: SupplementaryMarks\n",
      "[SQL: SELECT Name, Science\n",
      "FROM (\n",
      "  SELECT Name, Science FROM Exammarks\n",
      "  UNION\n",
      "  SELECT Name, Science FROM SupplementaryMarks\n",
      ") AS combined_marks\n",
      "WHERE Science > 50\n",
      "ORDER BY Science DESC\n",
      "LIMIT 2;]\n",
      "(Background on this error at: https://sqlalche.me/e/20/e3q8)\n"
     ]
    }
   ],
   "source": [
    "%%sql\n",
    "SELECT Name, Science\n",
    "FROM (\n",
    "  SELECT Name, Science FROM Exammarks\n",
    "  UNION\n",
    "  SELECT Name, Science FROM SupplementaryMarks\n",
    ") AS combined_marks\n",
    "WHERE Science > 50\n",
    "ORDER BY Science DESC\n",
    "LIMIT 2;"
   ]
  },
  {
   "cell_type": "markdown",
   "metadata": {},
   "source": [
    "**Question 5**\n",
    "\n",
    "How many students had to re-write their Maths and science exam? *(hint: a passing mark is considered to be 50 or greater)*\n",
    "\n",
    "**Options:**\n",
    " - 12\n",
    " - 4\n",
    " - 20\n",
    " - 9"
   ]
  },
  {
   "cell_type": "markdown",
   "metadata": {},
   "source": [
    "**Solution**"
   ]
  },
  {
   "cell_type": "code",
   "execution_count": 6,
   "metadata": {},
   "outputs": [
    {
     "name": "stdout",
     "output_type": "stream",
     "text": [
      " * sqlite:///classlist.db\n",
      "(sqlite3.OperationalError) no such table: ExamMarks\n",
      "[SQL: SELECT COUNT(StudentNo) \n",
      "FROM ExamMarks\n",
      "WHERE Maths < 50 AND Science < 50;]\n",
      "(Background on this error at: https://sqlalche.me/e/20/e3q8)\n"
     ]
    }
   ],
   "source": [
    "%%sql\n",
    "SELECT COUNT(StudentNo) \n",
    "FROM ExamMarks\n",
    "WHERE Maths < 50 AND Science < 50;"
   ]
  },
  {
   "cell_type": "markdown",
   "metadata": {},
   "source": [
    "**Question 6**\n",
    "\n",
    "What was the average mark, rounded down, for students who wrote the supplementary accounting exam after missing the first?\n",
    "\n",
    "**Options:**\n",
    " - 73\n",
    " - 79\n",
    " - 76\n",
    " - 82"
   ]
  },
  {
   "cell_type": "markdown",
   "metadata": {},
   "source": [
    "**Solution**"
   ]
  },
  {
   "cell_type": "code",
   "execution_count": 8,
   "metadata": {},
   "outputs": [
    {
     "name": "stdout",
     "output_type": "stream",
     "text": [
      " * sqlite:///classlist.db\n",
      "(sqlite3.OperationalError) no such table: SupplementaryMarks\n",
      "[SQL: SELECT ROUND(AVG(sm.Accounting) - 0.5)\n",
      "FROM SupplementaryMarks sm\n",
      "WHERE NOT EXISTS (\n",
      "  SELECT *\n",
      "  FROM ExamMarks em\n",
      "  WHERE sm.StudentNo = em.StudentNo\n",
      ");]\n",
      "(Background on this error at: https://sqlalche.me/e/20/e3q8)\n"
     ]
    }
   ],
   "source": [
    "%%sql\n",
    "SELECT ROUND(AVG(sm.Accounting) - 0.5)\n",
    "FROM SupplementaryMarks sm\n",
    "WHERE NOT EXISTS (\n",
    "  SELECT *\n",
    "  FROM ExamMarks em\n",
    "  WHERE sm.StudentNo = em.StudentNo\n",
    ");\n"
   ]
  },
  {
   "cell_type": "markdown",
   "metadata": {},
   "source": [
    "**Question 7**\n",
    "\n",
    "What was the average mark, rounded down, for students who wrote the supplementary accounting exam after failing the first?\n",
    "\n",
    "**Options:**\n",
    " - 79\n",
    " - 82\n",
    " - 76\n",
    " - 73"
   ]
  },
  {
   "cell_type": "markdown",
   "metadata": {},
   "source": [
    "**Solution**"
   ]
  },
  {
   "cell_type": "code",
   "execution_count": 9,
   "metadata": {},
   "outputs": [
    {
     "name": "stdout",
     "output_type": "stream",
     "text": [
      " * sqlite:///classlist.db\n",
      "(sqlite3.OperationalError) no such table: SupplementaryMarks\n",
      "[SQL: SELECT ROUND(AVG(sm.Accounting) - 0.5)\n",
      "FROM SupplementaryMarks sm\n",
      "LEFT OUTER JOIN ExamMarks em ON sm.StudentNo = em.StudentNo\n",
      "WHERE em.Accounting < 50 OR em.Accounting IS NULL;]\n",
      "(Background on this error at: https://sqlalche.me/e/20/e3q8)\n"
     ]
    }
   ],
   "source": [
    "%%sql\n",
    "SELECT ROUND(AVG(sm.Accounting) - 0.5)\n",
    "FROM SupplementaryMarks sm\n",
    "LEFT OUTER JOIN ExamMarks em ON sm.StudentNo = em.StudentNo\n",
    "WHERE em.Accounting < 50 OR em.Accounting IS NULL;"
   ]
  },
  {
   "cell_type": "markdown",
   "metadata": {},
   "source": [
    "**Question 9**\n",
    "\n",
    "What is the Full name of the student in the grade who scored the highest mark for Biology? *(hint: consider both supplementary and exam marks)*\n",
    " \n",
    " **Options:**\n",
    " - Tracy Grady\n",
    " - Bertha Hoff\n",
    " - Daryl Finn\n",
    " - Lillie Deaton"
   ]
  },
  {
   "cell_type": "markdown",
   "metadata": {},
   "source": [
    "**Solution**"
   ]
  },
  {
   "cell_type": "code",
   "execution_count": 10,
   "metadata": {},
   "outputs": [
    {
     "name": "stdout",
     "output_type": "stream",
     "text": [
      " * sqlite:///classlist.db\n",
      "(sqlite3.OperationalError) no such table: ExamMarks\n",
      "[SQL: SELECT Name, Surname, Biology \n",
      "FROM (\n",
      "  SELECT Name, Surname, Biology\n",
      "  FROM SupplementaryMarks\n",
      "  WHERE Biology > 50\n",
      "  UNION\n",
      "  SELECT Name, Surname, Biology\n",
      "  FROM ExamMarks\n",
      "  WHERE Biology > 50\n",
      ") AS subquery\n",
      "ORDER BY Biology DESC\n",
      "LIMIT 1;]\n",
      "(Background on this error at: https://sqlalche.me/e/20/e3q8)\n"
     ]
    }
   ],
   "source": [
    "%%sql \n",
    "SELECT Name, Surname, Biology \n",
    "FROM (\n",
    "  SELECT Name, Surname, Biology\n",
    "  FROM SupplementaryMarks\n",
    "  WHERE Biology > 50\n",
    "  UNION\n",
    "  SELECT Name, Surname, Biology\n",
    "  FROM ExamMarks\n",
    "  WHERE Biology > 50\n",
    ") AS subquery\n",
    "ORDER BY Biology DESC\n",
    "LIMIT 1;"
   ]
  },
  {
   "cell_type": "markdown",
   "metadata": {},
   "source": [
    "**Question 10**\n",
    "\n",
    "Assuming all subjects are weighted equally, what was the average total mark, rounded down, for students who didn’t write any supplementary exams?\n",
    " \n",
    "**Options:**\n",
    " - 74\n",
    " - 66\n",
    " - 73\n",
    " - 76"
   ]
  },
  {
   "cell_type": "markdown",
   "metadata": {},
   "source": [
    "**Solution**"
   ]
  },
  {
   "cell_type": "code",
   "execution_count": 11,
   "metadata": {},
   "outputs": [
    {
     "name": "stdout",
     "output_type": "stream",
     "text": [
      " * sqlite:///classlist.db\n",
      "(sqlite3.OperationalError) no such table: ExamMarks\n",
      "[SQL: SELECT ROUND(AVG((em.Maths + em.Accounting + em.CompSci + em.Science + em.Biology) / 5) - 0.5)\n",
      "FROM ExamMarks em\n",
      "LEFT OUTER JOIN SupplementaryMarks sm ON em.StudentNo = sm.StudentNo\n",
      "WHERE sm.StudentNo IS NULL;]\n",
      "(Background on this error at: https://sqlalche.me/e/20/e3q8)\n"
     ]
    }
   ],
   "source": [
    "%%sql \n",
    "SELECT ROUND(AVG((em.Maths + em.Accounting + em.CompSci + em.Science + em.Biology) / 5) - 0.5)\n",
    "FROM ExamMarks em\n",
    "LEFT OUTER JOIN SupplementaryMarks sm ON em.StudentNo = sm.StudentNo\n",
    "WHERE sm.StudentNo IS NULL;"
   ]
  }
 ],
 "metadata": {
  "kernelspec": {
   "display_name": "Python 3 (ipykernel)",
   "language": "python",
   "name": "python3"
  },
  "language_info": {
   "codemirror_mode": {
    "name": "ipython",
    "version": 3
   },
   "file_extension": ".py",
   "mimetype": "text/x-python",
   "name": "python",
   "nbconvert_exporter": "python",
   "pygments_lexer": "ipython3",
   "version": "3.10.9"
  }
 },
 "nbformat": 4,
 "nbformat_minor": 2
}
