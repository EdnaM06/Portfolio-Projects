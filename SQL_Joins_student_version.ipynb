{
 "cells": [
  {
   "cell_type": "markdown",
   "metadata": {},
   "source": [
    "# SQL Joins: TMDb Database\n",
    "© Explore Data Science Academy"
   ]
  },
  {
   "cell_type": "markdown",
   "metadata": {},
   "source": [
    "## Instructions to Students\n",
    "\n",
    "This challenge is designed to determine how much you have learned so far and will test your knowledge on join SQL statements.\n",
    "\n",
    "The answers for this challenge should be selected on Athena for each corresponding Multiple Choice Question. The questions are included in this notebook and are numbered according to the Athena Questions, the options to choose from for each question have also been included.\n",
    "\n",
    "Do not add or remove cells in this notebook. Do not edit or remove the `%%sql` comment as it is required to run each cell.\n",
    "\n",
    "**_Good Luck!_**"
   ]
  },
  {
   "cell_type": "markdown",
   "metadata": {},
   "source": [
    "## Honour Code\n",
    "\n",
    "I EDNA , KOBO, confirm - by submitting this document - that the solutions in this notebook are a result of my own work and that I abide by the EDSA honour code (https://drive.google.com/file/d/1QDCjGZJ8-FmJE3bZdIQNwnJyQKPhHZBn/view?usp=sharing).\n",
    "\n",
    "Non-compliance with the honour code constitutes a material breach of contract."
   ]
  },
  {
   "cell_type": "markdown",
   "metadata": {},
   "source": [
    "## The TMDb Database\n",
    "\n",
    "In this challenge you will be exploring the [The Movie Database](https://www.themoviedb.org/) - an online movie and TV show database, which houses some of the most popular movies and TV shows at your finger tips. The TMDb database supports 39 official languages used in over 180 countries daily and dates all the way back to 2008. \n",
    "\n",
    "\n",
    "<img src=\"https://github.com/Explore-AI/Pictures/blob/master/sql_tmdb.jpg?raw=true\" width=80%/>\n",
    "\n",
    "\n",
    "Below is an Entity Relationship diagram(ERD) of the TMDb database:\n",
    "\n",
    "<img src=\"https://github.com/Explore-AI/Pictures/blob/master/TMDB_ER_diagram.png?raw=true\" width=70%/>\n",
    "\n",
    "As can be seen from the ER diagram, the TMDb database consists of `12 tables` containing information about movies, cast, genre and so much more.  \n",
    "\n",
    "Let's get started!"
   ]
  },
  {
   "cell_type": "markdown",
   "metadata": {},
   "source": [
    "## Loading the database\n",
    "\n",
    "To begin and start making use of SQL queries you need to prepare your SQL environment you can do this by loading in the magic command `%load_ext sql`, next you can go ahead and load in your database. To do this you will need to ensure you have downloaded the `TMDB.db`sqlite file from Athena and have stored it in a known location. Now that you have all the prerequisites you can go ahead and load it into the notebook. "
   ]
  },
  {
   "cell_type": "code",
   "execution_count": 1,
   "metadata": {},
   "outputs": [],
   "source": [
    "%load_ext sql"
   ]
  },
  {
   "cell_type": "code",
   "execution_count": 2,
   "metadata": {},
   "outputs": [],
   "source": [
    "%%sql \n",
    "\n",
    "sqlite:///TMDB.db"
   ]
  },
  {
   "cell_type": "markdown",
   "metadata": {},
   "source": [
    "## Questions on SQL Join Statements \n",
    "\n",
    "Use the given cell below each question to execute your SQL queries to find the correct input from the options provided for the multiple choice questions on Athena."
   ]
  },
  {
   "cell_type": "markdown",
   "metadata": {},
   "source": [
    "**Question 1**\n",
    "\n",
    "What is the primary key for the table “movies”?\n",
    "\n",
    "**Options:** \n",
    " - title\n",
    " - movie_key\n",
    " - film_id\n",
    " - movie_id"
   ]
  },
  {
   "cell_type": "markdown",
   "metadata": {},
   "source": [
    "**Solution**"
   ]
  },
  {
   "cell_type": "code",
   "execution_count": 53,
   "metadata": {},
   "outputs": [
    {
     "name": "stdout",
     "output_type": "stream",
     "text": [
      "(0, 'movie_id', 'INTEGER', 1, None, 1)\n",
      "(1, 'title', 'varchar(500)', 0, 'NULL', 0)\n",
      "(2, 'release_date', 'datetime(6)', 0, 'NULL', 0)\n",
      "(3, 'budget', 'INTEGER', 0, 'NULL', 0)\n",
      "(4, 'homepage', 'varchar(500)', 0, 'NULL', 0)\n",
      "(5, 'original_language', 'varchar(50)', 0, 'NULL', 0)\n",
      "(6, 'original_title', 'varchar(500)', 0, 'NULL', 0)\n",
      "(7, 'overview', 'varchar(5000)', 0, 'NULL', 0)\n",
      "(8, 'popularity', 'double', 0, 'NULL', 0)\n",
      "(9, 'revenue', 'double', 0, 'NULL', 0)\n",
      "(10, 'runtime', 'double', 0, 'NULL', 0)\n",
      "(11, 'release_status', 'varchar(50)', 0, 'NULL', 0)\n",
      "(12, 'tagline', 'varchar(500)', 0, 'NULL', 0)\n",
      "(13, 'vote_average', 'double', 0, 'NULL', 0)\n",
      "(14, 'vote_count', 'INTEGER', 0, 'NULL', 0)\n"
     ]
    }
   ],
   "source": [
    "import sqlite3\n",
    "\n",
    "# Connect to the database\n",
    "conn = sqlite3.connect('TMDB.db')\n",
    "\n",
    "# Create a cursor\n",
    "c = conn.cursor()\n",
    "\n",
    "# Execute the query to show the schema of the movies table\n",
    "c.execute(\"PRAGMA table_info(movies)\")\n",
    "\n",
    "# Fetch the results\n",
    "results = c.fetchall()\n",
    "\n",
    "# Print the results\n",
    "for r in results:\n",
    "    print(r)\n",
    "\n",
    "# Close the connection\n",
    "conn.close()"
   ]
  },
  {
   "cell_type": "code",
   "execution_count": 54,
   "metadata": {},
   "outputs": [
    {
     "name": "stdout",
     "output_type": "stream",
     "text": [
      " * sqlite:///TMDB.db\n",
      "Done.\n"
     ]
    },
    {
     "data": {
      "text/html": [
       "<table>\n",
       "    <thead>\n",
       "        <tr>\n",
       "            <th>cid</th>\n",
       "            <th>name</th>\n",
       "            <th>type</th>\n",
       "            <th>notnull</th>\n",
       "            <th>dflt_value</th>\n",
       "            <th>pk</th>\n",
       "        </tr>\n",
       "    </thead>\n",
       "    <tbody>\n",
       "        <tr>\n",
       "            <td>0</td>\n",
       "            <td>movie_id</td>\n",
       "            <td>INTEGER</td>\n",
       "            <td>1</td>\n",
       "            <td>None</td>\n",
       "            <td>1</td>\n",
       "        </tr>\n",
       "        <tr>\n",
       "            <td>1</td>\n",
       "            <td>title</td>\n",
       "            <td>varchar(500)</td>\n",
       "            <td>0</td>\n",
       "            <td>NULL</td>\n",
       "            <td>0</td>\n",
       "        </tr>\n",
       "        <tr>\n",
       "            <td>2</td>\n",
       "            <td>release_date</td>\n",
       "            <td>datetime(6)</td>\n",
       "            <td>0</td>\n",
       "            <td>NULL</td>\n",
       "            <td>0</td>\n",
       "        </tr>\n",
       "        <tr>\n",
       "            <td>3</td>\n",
       "            <td>budget</td>\n",
       "            <td>INTEGER</td>\n",
       "            <td>0</td>\n",
       "            <td>NULL</td>\n",
       "            <td>0</td>\n",
       "        </tr>\n",
       "        <tr>\n",
       "            <td>4</td>\n",
       "            <td>homepage</td>\n",
       "            <td>varchar(500)</td>\n",
       "            <td>0</td>\n",
       "            <td>NULL</td>\n",
       "            <td>0</td>\n",
       "        </tr>\n",
       "        <tr>\n",
       "            <td>5</td>\n",
       "            <td>original_language</td>\n",
       "            <td>varchar(50)</td>\n",
       "            <td>0</td>\n",
       "            <td>NULL</td>\n",
       "            <td>0</td>\n",
       "        </tr>\n",
       "        <tr>\n",
       "            <td>6</td>\n",
       "            <td>original_title</td>\n",
       "            <td>varchar(500)</td>\n",
       "            <td>0</td>\n",
       "            <td>NULL</td>\n",
       "            <td>0</td>\n",
       "        </tr>\n",
       "        <tr>\n",
       "            <td>7</td>\n",
       "            <td>overview</td>\n",
       "            <td>varchar(5000)</td>\n",
       "            <td>0</td>\n",
       "            <td>NULL</td>\n",
       "            <td>0</td>\n",
       "        </tr>\n",
       "        <tr>\n",
       "            <td>8</td>\n",
       "            <td>popularity</td>\n",
       "            <td>double</td>\n",
       "            <td>0</td>\n",
       "            <td>NULL</td>\n",
       "            <td>0</td>\n",
       "        </tr>\n",
       "        <tr>\n",
       "            <td>9</td>\n",
       "            <td>revenue</td>\n",
       "            <td>double</td>\n",
       "            <td>0</td>\n",
       "            <td>NULL</td>\n",
       "            <td>0</td>\n",
       "        </tr>\n",
       "        <tr>\n",
       "            <td>10</td>\n",
       "            <td>runtime</td>\n",
       "            <td>double</td>\n",
       "            <td>0</td>\n",
       "            <td>NULL</td>\n",
       "            <td>0</td>\n",
       "        </tr>\n",
       "        <tr>\n",
       "            <td>11</td>\n",
       "            <td>release_status</td>\n",
       "            <td>varchar(50)</td>\n",
       "            <td>0</td>\n",
       "            <td>NULL</td>\n",
       "            <td>0</td>\n",
       "        </tr>\n",
       "        <tr>\n",
       "            <td>12</td>\n",
       "            <td>tagline</td>\n",
       "            <td>varchar(500)</td>\n",
       "            <td>0</td>\n",
       "            <td>NULL</td>\n",
       "            <td>0</td>\n",
       "        </tr>\n",
       "        <tr>\n",
       "            <td>13</td>\n",
       "            <td>vote_average</td>\n",
       "            <td>double</td>\n",
       "            <td>0</td>\n",
       "            <td>NULL</td>\n",
       "            <td>0</td>\n",
       "        </tr>\n",
       "        <tr>\n",
       "            <td>14</td>\n",
       "            <td>vote_count</td>\n",
       "            <td>INTEGER</td>\n",
       "            <td>0</td>\n",
       "            <td>NULL</td>\n",
       "            <td>0</td>\n",
       "        </tr>\n",
       "    </tbody>\n",
       "</table>"
      ],
      "text/plain": [
       "[(0, 'movie_id', 'INTEGER', 1, None, 1),\n",
       " (1, 'title', 'varchar(500)', 0, 'NULL', 0),\n",
       " (2, 'release_date', 'datetime(6)', 0, 'NULL', 0),\n",
       " (3, 'budget', 'INTEGER', 0, 'NULL', 0),\n",
       " (4, 'homepage', 'varchar(500)', 0, 'NULL', 0),\n",
       " (5, 'original_language', 'varchar(50)', 0, 'NULL', 0),\n",
       " (6, 'original_title', 'varchar(500)', 0, 'NULL', 0),\n",
       " (7, 'overview', 'varchar(5000)', 0, 'NULL', 0),\n",
       " (8, 'popularity', 'double', 0, 'NULL', 0),\n",
       " (9, 'revenue', 'double', 0, 'NULL', 0),\n",
       " (10, 'runtime', 'double', 0, 'NULL', 0),\n",
       " (11, 'release_status', 'varchar(50)', 0, 'NULL', 0),\n",
       " (12, 'tagline', 'varchar(500)', 0, 'NULL', 0),\n",
       " (13, 'vote_average', 'double', 0, 'NULL', 0),\n",
       " (14, 'vote_count', 'INTEGER', 0, 'NULL', 0)]"
      ]
     },
     "execution_count": 54,
     "metadata": {},
     "output_type": "execute_result"
    }
   ],
   "source": [
    "%%sql\n",
    "PRAGMA table_info(movies);"
   ]
  },
  {
   "cell_type": "markdown",
   "metadata": {},
   "source": [
    "**Question 2**\n",
    "\n",
    "How many foreign keys does the “LanguageMap” table have?\n",
    "\n",
    "**Options:**\n",
    "\n",
    " - 0\n",
    " - 2\n",
    " - 3\n",
    " - 1"
   ]
  },
  {
   "cell_type": "markdown",
   "metadata": {},
   "source": [
    "**Solution**"
   ]
  },
  {
   "cell_type": "code",
   "execution_count": 55,
   "metadata": {
    "scrolled": true
   },
   "outputs": [
    {
     "name": "stdout",
     "output_type": "stream",
     "text": [
      " * sqlite:///TMDB.db\n",
      "Done.\n"
     ]
    },
    {
     "data": {
      "text/html": [
       "<table>\n",
       "    <thead>\n",
       "        <tr>\n",
       "            <th>COUNT(*)</th>\n",
       "        </tr>\n",
       "    </thead>\n",
       "    <tbody>\n",
       "        <tr>\n",
       "            <td>0</td>\n",
       "        </tr>\n",
       "    </tbody>\n",
       "</table>"
      ],
      "text/plain": [
       "[(0,)]"
      ]
     },
     "execution_count": 55,
     "metadata": {},
     "output_type": "execute_result"
    }
   ],
   "source": [
    "%%sql \n",
    "SELECT COUNT(*)\n",
    "FROM sqlite_master\n",
    "WHERE type = 'table' AND name = 'LanguageMap' AND sql LIKE '%FOREIGN KEY%';"
   ]
  },
  {
   "cell_type": "markdown",
   "metadata": {},
   "source": [
    "**Question 3**\n",
    "\n",
    "How many movies in the database were produced by Pixar Animation Studios?\n",
    "\n",
    "**Options:**\n",
    " - 16\n",
    " - 14\n",
    " - 18\n",
    " - 20"
   ]
  },
  {
   "cell_type": "markdown",
   "metadata": {},
   "source": [
    "**Solution**"
   ]
  },
  {
   "cell_type": "code",
   "execution_count": 62,
   "metadata": {},
   "outputs": [],
   "source": [
    "import sqlite3\n",
    "\n",
    "# Connect to the database\n",
    "conn = sqlite3.connect('TMDB.db')\n",
    "\n",
    "# Create a cursor\n",
    "c = conn.cursor()\n",
    "\n",
    "# Execute the query to show the schema of the production_company table\n",
    "c.execute(\"PRAGMA table_info(production_company)\")\n",
    "\n",
    "# Fetch the results\n",
    "results = c.fetchall()\n",
    "\n",
    "# Print the results\n",
    "for r in results:\n",
    "    print(r)\n",
    "\n",
    "# Close the connection\n",
    "conn.close()"
   ]
  },
  {
   "cell_type": "code",
   "execution_count": 77,
   "metadata": {},
   "outputs": [
    {
     "name": "stdout",
     "output_type": "stream",
     "text": [
      " * sqlite:///TMDB.db\n",
      "(sqlite3.OperationalError) no such table: production_companies\n",
      "[SQL: SELECT COUNT(*) AS num_movies\n",
      "FROM movies\n",
      "JOIN production_companies ON movies.movie_id = production_companies.movie_id\n",
      "WHERE production_companies.production_company_name = 'Pixar Animation Studios';]\n",
      "(Background on this error at: https://sqlalche.me/e/20/e3q8)\n"
     ]
    }
   ],
   "source": [
    "%%sql\n",
    "SELECT COUNT(*) AS num_movies\n",
    "FROM movies\n",
    "JOIN production_companies ON movies.movie_id = production_companies.movie_id\n",
    "WHERE production_companies.production_company_name = 'Pixar Animation Studios';"
   ]
  },
  {
   "cell_type": "code",
   "execution_count": 64,
   "metadata": {},
   "outputs": [
    {
     "name": "stdout",
     "output_type": "stream",
     "text": [
      " * sqlite:///TMDB.db\n",
      "(sqlite3.OperationalError) table Movie already exists\n",
      "[SQL: CREATE TABLE Movie (\n",
      "  movie_id INT PRIMARY KEY,\n",
      "  title VARCHAR(500),\n",
      "  release_date DATE,\n",
      "  runtime_minutes INT,\n",
      "  budget INT,\n",
      "  revenue INT,\n",
      "  production_company_id INT,\n",
      "  FOREIGN KEY (production_company_id) REFERENCES production_company (production_company_id)\n",
      ");]\n",
      "(Background on this error at: https://sqlalche.me/e/20/e3q8)\n"
     ]
    }
   ],
   "source": [
    "%%sql\n",
    "CREATE TABLE Movie (\n",
    "  movie_id INT PRIMARY KEY,\n",
    "  title VARCHAR(500),\n",
    "  release_date DATE,\n",
    "  runtime_minutes INT,\n",
    "  budget INT,\n",
    "  revenue INT,\n",
    "  production_company_id INT,\n",
    "  FOREIGN KEY (production_company_id) REFERENCES production_company (production_company_id)\n",
    ");"
   ]
  },
  {
   "cell_type": "markdown",
   "metadata": {},
   "source": [
    "**Question 4**\n",
    "\n",
    "What is the most popular action movie that has some German in it? (Hint: The German word for German is Deutsch)\n",
    "\n",
    "**Options:**\n",
    " - The Bourne Identity\n",
    " - Mission: Impossible - Rogue Nation\n",
    " - Captain America: Civil War\n",
    " - Quantum of Solace"
   ]
  },
  {
   "cell_type": "markdown",
   "metadata": {},
   "source": [
    "**Solution**"
   ]
  },
  {
   "cell_type": "code",
   "execution_count": 61,
   "metadata": {},
   "outputs": [
    {
     "name": "stdout",
     "output_type": "stream",
     "text": [
      " * sqlite:///TMDB.db\n",
      "(sqlite3.OperationalError) no such column: keywords\n",
      "[SQL: SELECT title, popularity \n",
      "FROM movies \n",
      "WHERE original_language = 'Deutsch' AND title IN (\n",
      "  SELECT title \n",
      "  FROM movies \n",
      "  WHERE original_language <> 'Deutsch' AND keywords LIKE '%action%' \n",
      ") \n",
      "ORDER BY popularity DESC \n",
      "LIMIT 1;]\n",
      "(Background on this error at: https://sqlalche.me/e/20/e3q8)\n"
     ]
    }
   ],
   "source": [
    "%%sql\n",
    "SELECT title, popularity \n",
    "FROM movies \n",
    "WHERE original_language = 'Deutsch' AND title IN (\n",
    "  SELECT title \n",
    "  FROM movies \n",
    "  WHERE original_language <> 'Deutsch' AND keywords LIKE '%action%' \n",
    ") \n",
    "ORDER BY popularity DESC \n",
    "LIMIT 1;"
   ]
  },
  {
   "cell_type": "markdown",
   "metadata": {},
   "source": [
    "**Question 5**\n",
    "\n",
    "In how many movies did Tom Cruise portray the character Ethan Hunt? (Hint: Characters are listed in the Casts table.)\n",
    "\n",
    "**Options:**\n",
    " - 4\n",
    " - 3\n",
    " - 6\n",
    " - 5"
   ]
  },
  {
   "cell_type": "markdown",
   "metadata": {},
   "source": [
    "**Solution**"
   ]
  },
  {
   "cell_type": "code",
   "execution_count": 11,
   "metadata": {},
   "outputs": [
    {
     "name": "stdout",
     "output_type": "stream",
     "text": [
      " * sqlite:///TMDB.db\n",
      "(sqlite3.OperationalError) no such column: actors_id\n",
      "[SQL: SELECT COUNT(*) AS num_movies\n",
      "FROM movies\n",
      "JOIN casts ON movies.movie_id = casts.movie_id\n",
      "WHERE casts.characters = 'Ethan Hunt' AND casts.actors_id IN (\n",
      "    SELECT actors_id\n",
      "    FROM actors\n",
      "    WHERE actor_name = 'Tom Cruise'\n",
      ");]\n",
      "(Background on this error at: https://sqlalche.me/e/20/e3q8)\n"
     ]
    }
   ],
   "source": [
    "%%sql \n",
    "SELECT COUNT(*) AS num_movies\n",
    "FROM movies\n",
    "JOIN casts ON movies.movie_id = casts.movie_id\n",
    "WHERE casts.characters = 'Ethan Hunt' AND casts.actors_id IN (\n",
    "    SELECT actors_id\n",
    "    FROM actors\n",
    "    WHERE actor_name = 'Tom Cruise'\n",
    ");"
   ]
  },
  {
   "cell_type": "markdown",
   "metadata": {},
   "source": [
    "**Question 6**\n",
    "\n",
    "How many times was the actress Cate Blanchett nominated for an Oscar?\n",
    " \n",
    " **Options:**\n",
    " - 7\n",
    " - 4\n",
    " - 5\n",
    " - 2"
   ]
  },
  {
   "cell_type": "markdown",
   "metadata": {},
   "source": [
    "**Solution**"
   ]
  },
  {
   "cell_type": "code",
   "execution_count": 12,
   "metadata": {},
   "outputs": [
    {
     "name": "stdout",
     "output_type": "stream",
     "text": [
      " * sqlite:///TMDB.db\n",
      "(sqlite3.OperationalError) no such table: awards\n",
      "[SQL: SELECT COUNT (*) AS num_nominations\n",
      "FROM awards\n",
      "WHERE name = 'Cate Blanchett' AND award LIKE '%Actress%';]\n",
      "(Background on this error at: https://sqlalche.me/e/20/e3q8)\n"
     ]
    }
   ],
   "source": [
    "%%sql\n",
    "SELECT COUNT (*) AS num_nominations\n",
    "FROM awards\n",
    "WHERE name = 'Cate Blanchett' AND award LIKE '%Actress%';"
   ]
  },
  {
   "cell_type": "markdown",
   "metadata": {},
   "source": [
    "**Question 7**\n",
    "\n",
    "How many movies were nominated for the Best Picture award at the 2015 Oscars?\n",
    " \n",
    "**Options:**\n",
    "\n",
    " - 12\n",
    " - 16\n",
    " - 8\n",
    " - 18"
   ]
  },
  {
   "cell_type": "markdown",
   "metadata": {},
   "source": [
    "**Solution**"
   ]
  },
  {
   "cell_type": "code",
   "execution_count": 13,
   "metadata": {},
   "outputs": [
    {
     "name": "stdout",
     "output_type": "stream",
     "text": [
      " * sqlite:///TMDB.db\n",
      "Done.\n"
     ]
    },
    {
     "data": {
      "text/html": [
       "<table>\n",
       "    <thead>\n",
       "        <tr>\n",
       "            <th>num_nominees</th>\n",
       "        </tr>\n",
       "    </thead>\n",
       "    <tbody>\n",
       "        <tr>\n",
       "            <td>8</td>\n",
       "        </tr>\n",
       "    </tbody>\n",
       "</table>"
      ],
      "text/plain": [
       "[(8,)]"
      ]
     },
     "execution_count": 13,
     "metadata": {},
     "output_type": "execute_result"
    }
   ],
   "source": [
    "%%sql \n",
    "SELECT COUNT(*) AS num_nominees\n",
    "FROM oscars\n",
    "WHERE award = 'Best Picture' AND year = '2015';"
   ]
  },
  {
   "cell_type": "markdown",
   "metadata": {},
   "source": [
    "**Question 8** \n",
    "\n",
    "How many movies contain at least one of the languages, Afrikaans or Zulu?\n",
    "\n",
    "**Options:**\n",
    " - 10\n",
    " - 8\n",
    " - 12\n",
    " - 15"
   ]
  },
  {
   "cell_type": "markdown",
   "metadata": {},
   "source": [
    "**Solution**"
   ]
  },
  {
   "cell_type": "code",
   "execution_count": 79,
   "metadata": {},
   "outputs": [
    {
     "name": "stdout",
     "output_type": "stream",
     "text": [
      " * sqlite:///TMDB.db\n",
      "Done.\n"
     ]
    },
    {
     "data": {
      "text/html": [
       "<table>\n",
       "    <thead>\n",
       "        <tr>\n",
       "            <th>name</th>\n",
       "        </tr>\n",
       "    </thead>\n",
       "    <tbody>\n",
       "    </tbody>\n",
       "</table>"
      ],
      "text/plain": [
       "[]"
      ]
     },
     "execution_count": 79,
     "metadata": {},
     "output_type": "execute_result"
    }
   ],
   "source": [
    "%%sql\n",
    "SELECT name FROM sqlite_master WHERE type='table' AND name='spoken_languages';"
   ]
  },
  {
   "cell_type": "code",
   "execution_count": 75,
   "metadata": {},
   "outputs": [
    {
     "name": "stdout",
     "output_type": "stream",
     "text": [
      " * sqlite:///TMDB.db\n",
      "(sqlite3.OperationalError) no such table: spoken_languages\n",
      "[SQL: SELECT COUNT(DISTINCT m.movie_id) AS num_movies\n",
      "FROM movies m\n",
      "JOIN spoken_languages sl ON m.movie_id = sl.movie_id\n",
      "WHERE sl.language_name = 'Afrikaans' OR sl.language_name = 'Zulu';]\n",
      "(Background on this error at: https://sqlalche.me/e/20/e3q8)\n"
     ]
    }
   ],
   "source": [
    "%%sql\n",
    "SELECT COUNT(DISTINCT m.movie_id) AS num_movies\n",
    "FROM movies m\n",
    "JOIN spoken_languages sl ON m.movie_id = sl.movie_id\n",
    "WHERE sl.language_name = 'Afrikaans' OR sl.language_name = 'Zulu';"
   ]
  },
  {
   "cell_type": "markdown",
   "metadata": {},
   "source": [
    "**Question 9**\n",
    "\n",
    "In which country was the movie “Star Wars” produced?  \n",
    "\n",
    "**Options:**\n",
    " - Canada\n",
    " - United Kingdom\n",
    " - France\n",
    " - United States of America"
   ]
  },
  {
   "cell_type": "markdown",
   "metadata": {},
   "source": [
    "**Solution**"
   ]
  },
  {
   "cell_type": "code",
   "execution_count": 73,
   "metadata": {},
   "outputs": [
    {
     "name": "stdout",
     "output_type": "stream",
     "text": [
      " * sqlite:///TMDB.db\n",
      "Done.\n"
     ]
    },
    {
     "data": {
      "text/html": [
       "<table>\n",
       "    <thead>\n",
       "        <tr>\n",
       "            <th>name</th>\n",
       "        </tr>\n",
       "    </thead>\n",
       "    <tbody>\n",
       "    </tbody>\n",
       "</table>"
      ],
      "text/plain": [
       "[]"
      ]
     },
     "execution_count": 73,
     "metadata": {},
     "output_type": "execute_result"
    }
   ],
   "source": [
    "%%sql\n",
    "SELECT name FROM sqlite_master WHERE type='table' AND name='production_countries';"
   ]
  },
  {
   "cell_type": "code",
   "execution_count": 74,
   "metadata": {},
   "outputs": [
    {
     "name": "stdout",
     "output_type": "stream",
     "text": [
      " * sqlite:///TMDB.db\n",
      "Done.\n"
     ]
    },
    {
     "data": {
      "text/plain": [
       "[]"
      ]
     },
     "execution_count": 74,
     "metadata": {},
     "output_type": "execute_result"
    }
   ],
   "source": [
    "%%sql \n",
    "CREATE TABLE production_countries (\n",
    "    movie_id INTEGER,\n",
    "    iso_3166_1 TEXT,\n",
    "    FOREIGN KEY (movie_id) REFERENCES movies(movie_id)\n",
    ");"
   ]
  },
  {
   "cell_type": "markdown",
   "metadata": {},
   "source": [
    "**Question 10**\n",
    "\n",
    "How many movies are in the database that are both a Romance and a Comedy?\n",
    "\n",
    "**Options:**\n",
    "\n",
    " - 373\n",
    " - 484\n",
    " - 262\n",
    " - 595"
   ]
  },
  {
   "cell_type": "markdown",
   "metadata": {},
   "source": [
    "**Solution**"
   ]
  },
  {
   "cell_type": "code",
   "execution_count": 72,
   "metadata": {},
   "outputs": [
    {
     "name": "stdout",
     "output_type": "stream",
     "text": [
      " * sqlite:///TMDB.db\n",
      "Done.\n"
     ]
    },
    {
     "data": {
      "text/plain": [
       "[]"
      ]
     },
     "execution_count": 72,
     "metadata": {},
     "output_type": "execute_result"
    }
   ],
   "source": [
    "%%sql\n",
    "CREATE TABLE movie_genre (\n",
    "    movie_id INTEGER,\n",
    "    genre_id INTEGER,\n",
    "    FOREIGN KEY (movie_id) REFERENCES movies(movie_id),\n",
    "    FOREIGN KEY (genre_id) REFERENCES genre(genre_id)\n",
    ");"
   ]
  }
 ],
 "metadata": {
  "kernelspec": {
   "display_name": "Python 3 (ipykernel)",
   "language": "python",
   "name": "python3"
  },
  "language_info": {
   "codemirror_mode": {
    "name": "ipython",
    "version": 3
   },
   "file_extension": ".py",
   "mimetype": "text/x-python",
   "name": "python",
   "nbconvert_exporter": "python",
   "pygments_lexer": "ipython3",
   "version": "3.9.13"
  }
 },
 "nbformat": 4,
 "nbformat_minor": 2
}
